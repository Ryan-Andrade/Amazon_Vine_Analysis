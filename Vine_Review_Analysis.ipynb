{
 "cells": [
  {
   "cell_type": "code",
   "execution_count": 1,
   "metadata": {},
   "outputs": [],
   "source": [
    "import pandas as pd"
   ]
  },
  {
   "cell_type": "code",
   "execution_count": 2,
   "metadata": {},
   "outputs": [
    {
     "data": {
      "text/html": [
       "<div>\n",
       "<style scoped>\n",
       "    .dataframe tbody tr th:only-of-type {\n",
       "        vertical-align: middle;\n",
       "    }\n",
       "\n",
       "    .dataframe tbody tr th {\n",
       "        vertical-align: top;\n",
       "    }\n",
       "\n",
       "    .dataframe thead th {\n",
       "        text-align: right;\n",
       "    }\n",
       "</style>\n",
       "<table border=\"1\" class=\"dataframe\">\n",
       "  <thead>\n",
       "    <tr style=\"text-align: right;\">\n",
       "      <th></th>\n",
       "      <th>review_id</th>\n",
       "      <th>star_rating</th>\n",
       "      <th>helpful_votes</th>\n",
       "      <th>total_votes</th>\n",
       "      <th>vine</th>\n",
       "      <th>verified_purchase</th>\n",
       "    </tr>\n",
       "  </thead>\n",
       "  <tbody>\n",
       "    <tr>\n",
       "      <th>0</th>\n",
       "      <td>R14LVB34Z2Z53I</td>\n",
       "      <td>5.0</td>\n",
       "      <td>0.0</td>\n",
       "      <td>0.0</td>\n",
       "      <td>N</td>\n",
       "      <td>Y</td>\n",
       "    </tr>\n",
       "    <tr>\n",
       "      <th>1</th>\n",
       "      <td>R2M0R9CWPC82LT</td>\n",
       "      <td>5.0</td>\n",
       "      <td>0.0</td>\n",
       "      <td>0.0</td>\n",
       "      <td>N</td>\n",
       "      <td>Y</td>\n",
       "    </tr>\n",
       "    <tr>\n",
       "      <th>2</th>\n",
       "      <td>RQNQI2R3BM52A</td>\n",
       "      <td>4.0</td>\n",
       "      <td>0.0</td>\n",
       "      <td>0.0</td>\n",
       "      <td>N</td>\n",
       "      <td>Y</td>\n",
       "    </tr>\n",
       "    <tr>\n",
       "      <th>3</th>\n",
       "      <td>RTUIX1135HUAB</td>\n",
       "      <td>5.0</td>\n",
       "      <td>0.0</td>\n",
       "      <td>0.0</td>\n",
       "      <td>N</td>\n",
       "      <td>Y</td>\n",
       "    </tr>\n",
       "    <tr>\n",
       "      <th>4</th>\n",
       "      <td>RE3QSAT8TL010</td>\n",
       "      <td>4.0</td>\n",
       "      <td>0.0</td>\n",
       "      <td>0.0</td>\n",
       "      <td>N</td>\n",
       "      <td>Y</td>\n",
       "    </tr>\n",
       "    <tr>\n",
       "      <th>...</th>\n",
       "      <td>...</td>\n",
       "      <td>...</td>\n",
       "      <td>...</td>\n",
       "      <td>...</td>\n",
       "      <td>...</td>\n",
       "      <td>...</td>\n",
       "    </tr>\n",
       "    <tr>\n",
       "      <th>1688879</th>\n",
       "      <td>RPJVPR5A5XRAN</td>\n",
       "      <td>5.0</td>\n",
       "      <td>0.0</td>\n",
       "      <td>0.0</td>\n",
       "      <td>N</td>\n",
       "      <td>N</td>\n",
       "    </tr>\n",
       "    <tr>\n",
       "      <th>1688880</th>\n",
       "      <td>R1497N35CA1J5</td>\n",
       "      <td>5.0</td>\n",
       "      <td>0.0</td>\n",
       "      <td>0.0</td>\n",
       "      <td>N</td>\n",
       "      <td>N</td>\n",
       "    </tr>\n",
       "    <tr>\n",
       "      <th>1688881</th>\n",
       "      <td>RA1QA65MLJA0S</td>\n",
       "      <td>4.0</td>\n",
       "      <td>0.0</td>\n",
       "      <td>0.0</td>\n",
       "      <td>N</td>\n",
       "      <td>N</td>\n",
       "    </tr>\n",
       "    <tr>\n",
       "      <th>1688882</th>\n",
       "      <td>R1AUDY2ED3Q1YT</td>\n",
       "      <td>5.0</td>\n",
       "      <td>0.0</td>\n",
       "      <td>0.0</td>\n",
       "      <td>N</td>\n",
       "      <td>N</td>\n",
       "    </tr>\n",
       "    <tr>\n",
       "      <th>1688883</th>\n",
       "      <td>R3ODJG7TQK43XZ</td>\n",
       "      <td>5.0</td>\n",
       "      <td>0.0</td>\n",
       "      <td>0.0</td>\n",
       "      <td>N</td>\n",
       "      <td>N</td>\n",
       "    </tr>\n",
       "  </tbody>\n",
       "</table>\n",
       "<p>1688884 rows × 6 columns</p>\n",
       "</div>"
      ],
      "text/plain": [
       "              review_id  star_rating  helpful_votes  total_votes vine  \\\n",
       "0        R14LVB34Z2Z53I          5.0            0.0          0.0    N   \n",
       "1        R2M0R9CWPC82LT          5.0            0.0          0.0    N   \n",
       "2         RQNQI2R3BM52A          4.0            0.0          0.0    N   \n",
       "3         RTUIX1135HUAB          5.0            0.0          0.0    N   \n",
       "4         RE3QSAT8TL010          4.0            0.0          0.0    N   \n",
       "...                 ...          ...            ...          ...  ...   \n",
       "1688879   RPJVPR5A5XRAN          5.0            0.0          0.0    N   \n",
       "1688880   R1497N35CA1J5          5.0            0.0          0.0    N   \n",
       "1688881   RA1QA65MLJA0S          4.0            0.0          0.0    N   \n",
       "1688882  R1AUDY2ED3Q1YT          5.0            0.0          0.0    N   \n",
       "1688883  R3ODJG7TQK43XZ          5.0            0.0          0.0    N   \n",
       "\n",
       "        verified_purchase  \n",
       "0                       Y  \n",
       "1                       Y  \n",
       "2                       Y  \n",
       "3                       Y  \n",
       "4                       Y  \n",
       "...                   ...  \n",
       "1688879                 N  \n",
       "1688880                 N  \n",
       "1688881                 N  \n",
       "1688882                 N  \n",
       "1688883                 N  \n",
       "\n",
       "[1688884 rows x 6 columns]"
      ]
     },
     "execution_count": 2,
     "metadata": {},
     "output_type": "execute_result"
    }
   ],
   "source": [
    "# Read in vine_table as csv\n",
    "file = pd.read_csv('vine_table.csv')\n",
    "df = pd.DataFrame(file)\n",
    "df"
   ]
  },
  {
   "cell_type": "code",
   "execution_count": 3,
   "metadata": {},
   "outputs": [],
   "source": [
    "# Filter reviews with total votes greater than or equal to 20\n",
    "votes_ovr_20 = df[df.total_votes >= 20]"
   ]
  },
  {
   "cell_type": "code",
   "execution_count": 4,
   "metadata": {},
   "outputs": [],
   "source": [
    "# Retrieve all the rows where the helpful votes make up more than 50% of total votes\n",
    "helpful_voting = votes_ovr_20[(votes_ovr_20.helpful_votes) / (votes_ovr_20.total_votes) >= 0.5 ]"
   ]
  },
  {
   "cell_type": "code",
   "execution_count": 5,
   "metadata": {},
   "outputs": [
    {
     "data": {
      "text/plain": [
       "review_id            0\n",
       "star_rating          0\n",
       "helpful_votes        0\n",
       "total_votes          0\n",
       "vine                 0\n",
       "verified_purchase    0\n",
       "dtype: int64"
      ]
     },
     "execution_count": 5,
     "metadata": {},
     "output_type": "execute_result"
    }
   ],
   "source": [
    "# Filter DataFrame to retreive rows where a review was written as part of the Vine program\n",
    "vine_paid = helpful_voting[helpful_voting.vine == 'Y']\n",
    "vine_paid.count()"
   ]
  },
  {
   "cell_type": "code",
   "execution_count": 6,
   "metadata": {},
   "outputs": [
    {
     "data": {
      "text/plain": [
       "review_id            4532\n",
       "star_rating          4532\n",
       "helpful_votes        4532\n",
       "total_votes          4532\n",
       "vine                 4532\n",
       "verified_purchase    4532\n",
       "dtype: int64"
      ]
     },
     "execution_count": 6,
     "metadata": {},
     "output_type": "execute_result"
    }
   ],
   "source": [
    "# Filter DataFrame to retreive rows where a review was not written as part of the Vine program\n",
    "vine_unpaid = helpful_voting[helpful_voting.vine == 'N']\n",
    "vine_unpaid.count()"
   ]
  },
  {
   "cell_type": "code",
   "execution_count": 7,
   "metadata": {},
   "outputs": [
    {
     "name": "stdout",
     "output_type": "stream",
     "text": [
      "Based on our filtering criteria there are no paid Vine reviews remaining. However for unpaid reviews, the total number of reviews is 4532, the number of 5 star reviews is 2507, and the percentage of 5 star reviews is 55%.\n"
     ]
    }
   ],
   "source": [
    "# Determine the total number of reviews, the number of 5-star reviews, and the percentage of 5-star reivews for both paid & unpaid\n",
    "total_reviews = vine_unpaid.review_id.count()\n",
    "five_stars = vine_unpaid[vine_unpaid.star_rating == 5].star_rating.count()\n",
    "percentage = \"{:.0%}\".format(five_stars/total_reviews)\n",
    "print(f'Based on our filtering criteria there are no paid Vine reviews remaining. However for unpaid reviews, the total number of reviews is {total_reviews}, the number of 5 star reviews is {five_stars}, and the percentage of 5 star reviews is {percentage}.')"
   ]
  },
  {
   "cell_type": "code",
   "execution_count": null,
   "metadata": {},
   "outputs": [],
   "source": []
  }
 ],
 "metadata": {
  "interpreter": {
   "hash": "81bfda6978e8b63316d6df70b8fd94647216c53b8713f677a1f47dd48820c5b2"
  },
  "kernelspec": {
   "display_name": "Python 3.7.11 ('PythonData')",
   "language": "python",
   "name": "python3"
  },
  "language_info": {
   "codemirror_mode": {
    "name": "ipython",
    "version": 3
   },
   "file_extension": ".py",
   "mimetype": "text/x-python",
   "name": "python",
   "nbconvert_exporter": "python",
   "pygments_lexer": "ipython3",
   "version": "3.7.11"
  },
  "orig_nbformat": 4
 },
 "nbformat": 4,
 "nbformat_minor": 2
}
